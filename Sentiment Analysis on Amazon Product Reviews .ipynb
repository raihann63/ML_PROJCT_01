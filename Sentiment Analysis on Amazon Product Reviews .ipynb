{
 "cells": [
  {
   "cell_type": "markdown",
   "id": "4651dd8e",
   "metadata": {},
   "source": [
    "# Sentiment Analysis on Amazon Product Reviews"
   ]
  },
  {
   "cell_type": "markdown",
   "id": "abaf52db",
   "metadata": {},
   "source": [
    "## 1. Dataset Overview\n",
    "- **Dataset Description**:\n",
    "  - Analyze an Amazon product review dataset containing textual reviews (`reviewText`) and corresponding sentiment labels (`Positive`).\n",
    "  - Sentiment is binary: 1 for positive, 0 for negative.\n",
    "- **Objective**:\n",
    "  - Predict the sentiment of a product review based on its textual content.\n"
   ]
  },
  {
   "cell_type": "code",
   "execution_count": 1,
   "id": "aec67bef",
   "metadata": {},
   "outputs": [],
   "source": [
    "import pandas as pd"
   ]
  },
  {
   "cell_type": "code",
   "execution_count": 2,
   "id": "c92730c6",
   "metadata": {},
   "outputs": [
    {
     "data": {
      "text/html": [
       "<div>\n",
       "<style scoped>\n",
       "    .dataframe tbody tr th:only-of-type {\n",
       "        vertical-align: middle;\n",
       "    }\n",
       "\n",
       "    .dataframe tbody tr th {\n",
       "        vertical-align: top;\n",
       "    }\n",
       "\n",
       "    .dataframe thead th {\n",
       "        text-align: right;\n",
       "    }\n",
       "</style>\n",
       "<table border=\"1\" class=\"dataframe\">\n",
       "  <thead>\n",
       "    <tr style=\"text-align: right;\">\n",
       "      <th></th>\n",
       "      <th>reviewText</th>\n",
       "      <th>Positive</th>\n",
       "    </tr>\n",
       "  </thead>\n",
       "  <tbody>\n",
       "    <tr>\n",
       "      <th>0</th>\n",
       "      <td>This is a one of the best apps acording to a b...</td>\n",
       "      <td>1</td>\n",
       "    </tr>\n",
       "    <tr>\n",
       "      <th>1</th>\n",
       "      <td>This is a pretty good version of the game for ...</td>\n",
       "      <td>1</td>\n",
       "    </tr>\n",
       "    <tr>\n",
       "      <th>2</th>\n",
       "      <td>this is a really cool game. there are a bunch ...</td>\n",
       "      <td>1</td>\n",
       "    </tr>\n",
       "    <tr>\n",
       "      <th>3</th>\n",
       "      <td>This is a silly game and can be frustrating, b...</td>\n",
       "      <td>1</td>\n",
       "    </tr>\n",
       "    <tr>\n",
       "      <th>4</th>\n",
       "      <td>This is a terrific game on any pad. Hrs of fun...</td>\n",
       "      <td>1</td>\n",
       "    </tr>\n",
       "  </tbody>\n",
       "</table>\n",
       "</div>"
      ],
      "text/plain": [
       "                                          reviewText  Positive\n",
       "0  This is a one of the best apps acording to a b...         1\n",
       "1  This is a pretty good version of the game for ...         1\n",
       "2  this is a really cool game. there are a bunch ...         1\n",
       "3  This is a silly game and can be frustrating, b...         1\n",
       "4  This is a terrific game on any pad. Hrs of fun...         1"
      ]
     },
     "execution_count": 2,
     "metadata": {},
     "output_type": "execute_result"
    }
   ],
   "source": [
    "url = 'https://raw.githubusercontent.com/rashakil-ds/Public-Datasets/refs/heads/main/amazon.csv'\n",
    "df = pd.read_csv(url)\n",
    "df.head()"
   ]
  },
  {
   "cell_type": "markdown",
   "id": "da27b7a2",
   "metadata": {},
   "source": [
    "## 2. Data Preprocessing\n",
    "- Handle missing values, if any.\n",
    "- Perform text preprocessing on the `reviewText` column:\n",
    "  - Convert text to lowercase.\n",
    "  - Remove stop words, punctuation, and special characters.\n",
    "  - Tokenize and lemmatize text data.\n",
    "- Split the dataset into training and testing sets.\n"
   ]
  },
  {
   "cell_type": "code",
   "execution_count": 3,
   "id": "d1c497ed",
   "metadata": {},
   "outputs": [],
   "source": [
    "# Rename the 'Positive' column to 'sentiment'\n",
    "df.rename(columns={'Positive': 'sentiment'}, inplace=True)\n",
    "\n",
    "# Step 1: Handle missing values\n",
    "df = df.dropna(subset=['reviewText', 'sentiment'])"
   ]
  },
  {
   "cell_type": "code",
   "execution_count": 4,
   "id": "86e83cb1",
   "metadata": {},
   "outputs": [
    {
     "name": "stderr",
     "output_type": "stream",
     "text": [
      "[nltk_data] Downloading package stopwords to\n",
      "[nltk_data]     C:\\Users\\alimd\\AppData\\Roaming\\nltk_data...\n",
      "[nltk_data]   Package stopwords is already up-to-date!\n",
      "[nltk_data] Downloading package punkt to\n",
      "[nltk_data]     C:\\Users\\alimd\\AppData\\Roaming\\nltk_data...\n",
      "[nltk_data]   Package punkt is already up-to-date!\n",
      "[nltk_data] Downloading package wordnet to\n",
      "[nltk_data]     C:\\Users\\alimd\\AppData\\Roaming\\nltk_data...\n",
      "[nltk_data]   Package wordnet is already up-to-date!\n"
     ]
    }
   ],
   "source": [
    "# Step 2: Text Preprocessing\n",
    "import re\n",
    "import nltk\n",
    "from nltk.corpus import stopwords\n",
    "from nltk.tokenize import word_tokenize\n",
    "from nltk.stem import WordNetLemmatizer\n",
    "\n",
    "# Download necessary NLTK data\n",
    "nltk.download('stopwords')\n",
    "nltk.download('punkt')\n",
    "nltk.download('wordnet')\n",
    "\n",
    "# Initialize stopwords and lemmatizer\n",
    "stop_words = set(stopwords.words('english'))\n",
    "lemmatizer = WordNetLemmatizer()\n",
    "\n",
    "# Function to preprocess text\n",
    "def preprocess_text(text):\n",
    "    # Convert text to lowercase\n",
    "    text = text.lower()\n",
    "    # Remove punctuation and special characters\n",
    "    text = re.sub(r'[^a-z\\s]', '', text)\n",
    "    # Tokenize text\n",
    "    tokens = word_tokenize(text)\n",
    "    # Remove stop words and lemmatize tokens\n",
    "    tokens = [lemmatizer.lemmatize(word) for word in tokens if word not in stop_words]\n",
    "    # Join tokens back into a single string\n",
    "    return ' '.join(tokens)\n",
    "\n",
    "# Apply preprocessing to the 'reviewText' column\n",
    "df['cleanedText'] = df['reviewText'].apply(preprocess_text)"
   ]
  },
  {
   "cell_type": "code",
   "execution_count": 5,
   "id": "c5b6a8fb",
   "metadata": {},
   "outputs": [
    {
     "name": "stdout",
     "output_type": "stream",
     "text": [
      "Training set size: 16000\n",
      "Testing set size: 4000\n"
     ]
    }
   ],
   "source": [
    "# Step 3: Splitting the Dataset\n",
    "from sklearn.model_selection import train_test_split\n",
    "\n",
    "# Features (X) and target (y)\n",
    "X = df['cleanedText']\n",
    "y = df['sentiment']\n",
    "\n",
    "# Splitting into training and testing sets (80-20 split)\n",
    "X_train, X_test, y_train, y_test = train_test_split(X, y, test_size=0.2, random_state=42)\n",
    "\n",
    "# Output the split sizes\n",
    "print(f\"Training set size: {len(X_train)}\")\n",
    "print(f\"Testing set size: {len(X_test)}\")"
   ]
  },
  {
   "cell_type": "markdown",
   "id": "ec98fa4a",
   "metadata": {},
   "source": [
    "## 3. Model Selection\n",
    "- Choose at least three machine learning models for sentiment classification:\n",
    "  - Statistical Models:\n",
    "    - Logistic Regression\n",
    "    - Random Forest\n",
    "    - Support Vector Machine (SVM)\n",
    "    - Naïve Bayes\n",
    "    - Gradient Boosting (e.g., XGBoost, AdaBoost, CatBoost)\n",
    "  - Neural Models:\n",
    "    - LSTM (Long Short-Term Memory)\n",
    "    - GRUs (Gated Recurrent Units)\n"
   ]
  },
  {
   "cell_type": "code",
   "execution_count": 6,
   "id": "7ddd3182",
   "metadata": {},
   "outputs": [
    {
     "name": "stdout",
     "output_type": "stream",
     "text": [
      "TF-IDF train shape: (16000, 5000)\n",
      "TF-IDF test shape: (4000, 5000)\n"
     ]
    }
   ],
   "source": [
    "from sklearn.feature_extraction.text import TfidfVectorizer\n",
    "\n",
    "# Convert text data to TF-IDF features\n",
    "tfidf = TfidfVectorizer(max_features=5000)  # Limit to 5000 features to reduce dimensionality\n",
    "X_train_tfidf = tfidf.fit_transform(X_train)\n",
    "X_test_tfidf = tfidf.transform(X_test)\n",
    "\n",
    "print(f\"TF-IDF train shape: {X_train_tfidf.shape}\")\n",
    "print(f\"TF-IDF test shape: {X_test_tfidf.shape}\")\n"
   ]
  },
  {
   "cell_type": "code",
   "execution_count": 7,
   "id": "e28f1c0e",
   "metadata": {},
   "outputs": [
    {
     "name": "stdout",
     "output_type": "stream",
     "text": [
      "Logistic Regression Results:\n",
      "              precision    recall  f1-score   support\n",
      "\n",
      "           0       0.84      0.65      0.73       958\n",
      "           1       0.90      0.96      0.93      3042\n",
      "\n",
      "    accuracy                           0.89      4000\n",
      "   macro avg       0.87      0.81      0.83      4000\n",
      "weighted avg       0.88      0.89      0.88      4000\n",
      "\n",
      "Accuracy: 0.8875\n",
      "Random Forest Results:\n",
      "              precision    recall  f1-score   support\n",
      "\n",
      "           0       0.82      0.57      0.67       958\n",
      "           1       0.88      0.96      0.92      3042\n",
      "\n",
      "    accuracy                           0.87      4000\n",
      "   macro avg       0.85      0.76      0.79      4000\n",
      "weighted avg       0.86      0.87      0.86      4000\n",
      "\n",
      "Accuracy: 0.8675\n",
      "SVM Results:\n",
      "              precision    recall  f1-score   support\n",
      "\n",
      "           0       0.78      0.72      0.75       958\n",
      "           1       0.91      0.94      0.93      3042\n",
      "\n",
      "    accuracy                           0.89      4000\n",
      "   macro avg       0.85      0.83      0.84      4000\n",
      "weighted avg       0.88      0.89      0.88      4000\n",
      "\n",
      "Accuracy: 0.8855\n"
     ]
    },
    {
     "name": "stderr",
     "output_type": "stream",
     "text": [
      "C:\\Users\\alimd\\anaconda3\\Lib\\site-packages\\sklearn\\svm\\_classes.py:32: FutureWarning: The default value of `dual` will change from `True` to `'auto'` in 1.5. Set the value of `dual` explicitly to suppress the warning.\n",
      "  warnings.warn(\n"
     ]
    }
   ],
   "source": [
    "#𝐋𝐨𝐠𝐢𝐬𝐭𝐢𝐜 𝐑𝐞𝐠𝐫𝐞𝐬𝐬𝐢𝐨𝐧\n",
    "from sklearn.linear_model import LogisticRegression\n",
    "from sklearn.metrics import classification_report, accuracy_score\n",
    "\n",
    "# Train Logistic Regression\n",
    "lr_model = LogisticRegression()\n",
    "lr_model.fit(X_train_tfidf, y_train)\n",
    "\n",
    "# Predictions\n",
    "lr_predictions = lr_model.predict(X_test_tfidf)\n",
    "\n",
    "# Evaluate\n",
    "print(\"Logistic Regression Results:\")\n",
    "print(classification_report(y_test, lr_predictions))\n",
    "print(\"Accuracy:\", accuracy_score(y_test, lr_predictions))\n",
    "\n",
    "\n",
    "\n",
    "\n",
    "\n",
    "\n",
    "\n",
    "#𝐑𝐚𝐧𝐝𝐨𝐦 𝐅𝐨𝐫𝐞𝐬𝐭\n",
    "from sklearn.ensemble import RandomForestClassifier\n",
    "\n",
    "# Train Random Forest\n",
    "rf_model = RandomForestClassifier(n_estimators=100, random_state=42)\n",
    "rf_model.fit(X_train_tfidf, y_train)\n",
    "\n",
    "# Predictions\n",
    "rf_predictions = rf_model.predict(X_test_tfidf)\n",
    "\n",
    "# Evaluate\n",
    "print(\"Random Forest Results:\")\n",
    "print(classification_report(y_test, rf_predictions))\n",
    "print(\"Accuracy:\", accuracy_score(y_test, rf_predictions))\n",
    "\n",
    "\n",
    "\n",
    "#𝐒𝐮𝐩𝐩𝐨𝐫𝐭 𝐕𝐞𝐜𝐭𝐨𝐫 𝐌𝐚𝐜𝐡𝐢𝐧𝐞 (𝐒𝐕𝐌)\n",
    "from sklearn.svm import LinearSVC\n",
    "\n",
    "# Train SVM\n",
    "svm_model = LinearSVC()\n",
    "svm_model.fit(X_train_tfidf, y_train)\n",
    "\n",
    "# Predictions\n",
    "svm_predictions = svm_model.predict(X_test_tfidf)\n",
    "\n",
    "# Evaluate\n",
    "print(\"SVM Results:\")\n",
    "print(classification_report(y_test, svm_predictions))\n",
    "print(\"Accuracy:\", accuracy_score(y_test, svm_predictions))\n",
    "\n",
    "\n",
    "\n",
    "\n"
   ]
  },
  {
   "cell_type": "code",
   "execution_count": 8,
   "id": "4c1edc50",
   "metadata": {},
   "outputs": [
    {
     "name": "stdout",
     "output_type": "stream",
     "text": [
      "Epoch 1/5\n"
     ]
    },
    {
     "name": "stderr",
     "output_type": "stream",
     "text": [
      "C:\\Users\\alimd\\anaconda3\\Lib\\site-packages\\keras\\src\\layers\\core\\embedding.py:90: UserWarning: Argument `input_length` is deprecated. Just remove it.\n",
      "  warnings.warn(\n"
     ]
    },
    {
     "name": "stdout",
     "output_type": "stream",
     "text": [
      "\u001b[1m500/500\u001b[0m \u001b[32m━━━━━━━━━━━━━━━━━━━━\u001b[0m\u001b[37m\u001b[0m \u001b[1m45s\u001b[0m 87ms/step - accuracy: 0.8212 - loss: 0.4043 - val_accuracy: 0.8917 - val_loss: 0.2597\n",
      "Epoch 2/5\n",
      "\u001b[1m500/500\u001b[0m \u001b[32m━━━━━━━━━━━━━━━━━━━━\u001b[0m\u001b[37m\u001b[0m \u001b[1m47s\u001b[0m 94ms/step - accuracy: 0.9280 - loss: 0.1824 - val_accuracy: 0.8848 - val_loss: 0.2741\n",
      "Epoch 3/5\n",
      "\u001b[1m500/500\u001b[0m \u001b[32m━━━━━━━━━━━━━━━━━━━━\u001b[0m\u001b[37m\u001b[0m \u001b[1m49s\u001b[0m 99ms/step - accuracy: 0.9460 - loss: 0.1397 - val_accuracy: 0.8752 - val_loss: 0.3015\n",
      "Epoch 4/5\n",
      "\u001b[1m500/500\u001b[0m \u001b[32m━━━━━━━━━━━━━━━━━━━━\u001b[0m\u001b[37m\u001b[0m \u001b[1m53s\u001b[0m 107ms/step - accuracy: 0.9635 - loss: 0.1043 - val_accuracy: 0.8817 - val_loss: 0.3436\n",
      "Epoch 5/5\n",
      "\u001b[1m500/500\u001b[0m \u001b[32m━━━━━━━━━━━━━━━━━━━━\u001b[0m\u001b[37m\u001b[0m \u001b[1m61s\u001b[0m 122ms/step - accuracy: 0.9726 - loss: 0.0764 - val_accuracy: 0.8813 - val_loss: 0.4134\n",
      "\u001b[1m125/125\u001b[0m \u001b[32m━━━━━━━━━━━━━━━━━━━━\u001b[0m\u001b[37m\u001b[0m \u001b[1m5s\u001b[0m 42ms/step - accuracy: 0.8850 - loss: 0.3850\n",
      "LSTM Accuracy: 0.8812500238418579\n"
     ]
    }
   ],
   "source": [
    "#𝐋𝐒𝐓𝐌 𝐚𝐧𝐝 𝐆𝐑𝐔 (𝐍𝐞𝐮𝐫𝐚𝐥 𝐌𝐨𝐝𝐞𝐥𝐬)\n",
    "from tensorflow.keras.preprocessing.text import Tokenizer\n",
    "from tensorflow.keras.preprocessing.sequence import pad_sequences\n",
    "from tensorflow.keras.models import Sequential\n",
    "from tensorflow.keras.layers import Embedding, LSTM, Dense\n",
    "\n",
    "# Tokenize text\n",
    "tokenizer = Tokenizer(num_words=5000)\n",
    "tokenizer.fit_on_texts(X_train)\n",
    "X_train_seq = tokenizer.texts_to_sequences(X_train)\n",
    "X_test_seq = tokenizer.texts_to_sequences(X_test)\n",
    "\n",
    "# Pad sequences\n",
    "max_len = 200  # Maximum sequence length\n",
    "X_train_pad = pad_sequences(X_train_seq, maxlen=max_len)\n",
    "X_test_pad = pad_sequences(X_test_seq, maxlen=max_len)\n",
    "\n",
    "# Build LSTM Model\n",
    "lstm_model = Sequential([\n",
    "    Embedding(input_dim=5000, output_dim=128, input_length=max_len),\n",
    "    LSTM(units=128, return_sequences=False),\n",
    "    Dense(1, activation='sigmoid')  # Output layer for binary classification\n",
    "])\n",
    "\n",
    "lstm_model.compile(optimizer='adam', loss='binary_crossentropy', metrics=['accuracy'])\n",
    "\n",
    "# Train LSTM\n",
    "lstm_model.fit(X_train_pad, y_train, validation_data=(X_test_pad, y_test), epochs=5, batch_size=32)\n",
    "\n",
    "# Evaluate LSTM\n",
    "lstm_loss, lstm_accuracy = lstm_model.evaluate(X_test_pad, y_test)\n",
    "print(f\"LSTM Accuracy: {lstm_accuracy}\")\n"
   ]
  },
  {
   "cell_type": "markdown",
   "id": "24d561e8",
   "metadata": {},
   "source": [
    "## 4. Model Training\n",
    "- Train each selected model on the training dataset.\n",
    "- Utilize vectorization techniques for text data:\n",
    "  - TF-IDF (Term Frequency-Inverse Document Frequency)\n",
    "  - Word embeddings (e.g., Word2Vec, GloVe)\n"
   ]
  },
  {
   "cell_type": "code",
   "execution_count": 9,
   "id": "c09e7a8e",
   "metadata": {},
   "outputs": [
    {
     "name": "stdout",
     "output_type": "stream",
     "text": [
      "Dataset loaded successfully!\n",
      "                                          reviewText  Positive\n",
      "0  This is a one of the best apps acording to a b...         1\n",
      "1  This is a pretty good version of the game for ...         1\n",
      "2  this is a really cool game. there are a bunch ...         1\n",
      "3  This is a silly game and can be frustrating, b...         1\n",
      "4  This is a terrific game on any pad. Hrs of fun...         1\n"
     ]
    }
   ],
   "source": [
    "import pandas as pd\n",
    "\n",
    "# URL of the dataset\n",
    "url = 'https://raw.githubusercontent.com/rashakil-ds/Public-Datasets/refs/heads/main/amazon.csv'\n",
    "\n",
    "# Load the dataset into a pandas DataFrame\n",
    "try:\n",
    "    data = pd.read_csv(url)\n",
    "    print(\"Dataset loaded successfully!\")\n",
    "    print(data.head())  # Display the first few rows of the dataset\n",
    "except Exception as e:\n",
    "    print(\"An error occurred while loading the dataset:\")\n",
    "    print(e)\n",
    "\n"
   ]
  },
  {
   "cell_type": "code",
   "execution_count": 10,
   "id": "e4bd8e77",
   "metadata": {},
   "outputs": [
    {
     "name": "stdout",
     "output_type": "stream",
     "text": [
      "Dataset columns: Index(['reviewText', 'Positive'], dtype='object')\n",
      "                                          reviewText  Positive\n",
      "0  This is a one of the best apps acording to a b...         1\n",
      "1  This is a pretty good version of the game for ...         1\n",
      "2  this is a really cool game. there are a bunch ...         1\n",
      "3  This is a silly game and can be frustrating, b...         1\n",
      "4  This is a terrific game on any pad. Hrs of fun...         1\n",
      "Required columns ('text' and 'label') are missing!\n"
     ]
    }
   ],
   "source": [
    "from sklearn.model_selection import train_test_split\n",
    "import pandas as pd\n",
    "\n",
    "# Load dataset\n",
    "url = 'https://raw.githubusercontent.com/rashakil-ds/Public-Datasets/main/amazon.csv'\n",
    "data = pd.read_csv(url)\n",
    "\n",
    "# Inspect dataset\n",
    "print(\"Dataset columns:\", data.columns)\n",
    "print(data.head())\n",
    "\n",
    "# Ensure column names are correct\n",
    "if 'text' in data.columns and 'label' in data.columns:\n",
    "    X_train, X_test, y_train, y_test = train_test_split(\n",
    "        data['text'], data['label'], test_size=0.2, random_state=42)\n",
    "    print(\"Training Set Size:\", len(X_train))\n",
    "    print(\"Testing Set Size:\", len(X_test))\n",
    "else:\n",
    "    print(\"Required columns ('text' and 'label') are missing!\")\n"
   ]
  },
  {
   "cell_type": "code",
   "execution_count": 11,
   "id": "50a5ab49",
   "metadata": {},
   "outputs": [
    {
     "name": "stderr",
     "output_type": "stream",
     "text": [
      "[nltk_data] Downloading package stopwords to\n",
      "[nltk_data]     C:\\Users\\alimd\\AppData\\Roaming\\nltk_data...\n",
      "[nltk_data]   Package stopwords is already up-to-date!\n",
      "[nltk_data] Downloading package punkt to\n",
      "[nltk_data]     C:\\Users\\alimd\\AppData\\Roaming\\nltk_data...\n",
      "[nltk_data]   Package punkt is already up-to-date!\n"
     ]
    }
   ],
   "source": [
    "import nltk\n",
    "from nltk.corpus import stopwords\n",
    "from nltk.tokenize import word_tokenize\n",
    "import string\n",
    "\n",
    "# Download necessary NLTK packages\n",
    "nltk.download('stopwords')\n",
    "nltk.download('punkt')\n",
    "\n",
    "# Preprocessing function\n",
    "def preprocess_text(text):\n",
    "    tokens = word_tokenize(text.lower())  # Tokenize and convert to lowercase\n",
    "    tokens = [word for word in tokens if word.isalnum()]  # Remove punctuation\n",
    "    tokens = [word for word in tokens if word not in stopwords.words('english')]  # Remove stopwords\n",
    "    return \" \".join(tokens)\n",
    "\n",
    "# Apply preprocessing to train and test sets\n",
    "X_train = X_train.apply(preprocess_text)\n",
    "X_test = X_test.apply(preprocess_text)\n"
   ]
  },
  {
   "cell_type": "code",
   "execution_count": 12,
   "id": "a8404a80",
   "metadata": {},
   "outputs": [
    {
     "name": "stdout",
     "output_type": "stream",
     "text": [
      "TF-IDF Feature Shape: (16000, 5000)\n",
      "Word2Vec Embedding Shape: (16000, 100)\n"
     ]
    }
   ],
   "source": [
    "#TF-IDF Vectorization\n",
    "from sklearn.feature_extraction.text import TfidfVectorizer\n",
    "\n",
    "# Initialize TF-IDF vectorizer\n",
    "tfidf_vectorizer = TfidfVectorizer(max_features=5000)\n",
    "\n",
    "# Fit-transform the training data and transform the testing data\n",
    "X_train_tfidf = tfidf_vectorizer.fit_transform(X_train)\n",
    "X_test_tfidf = tfidf_vectorizer.transform(X_test)\n",
    "\n",
    "print(\"TF-IDF Feature Shape:\", X_train_tfidf.shape)\n",
    "\n",
    "\n",
    "#Word Embeddings\n",
    "import gensim.downloader as api\n",
    "import numpy as np\n",
    "\n",
    "# Load pre-trained GloVe embeddings\n",
    "word2vec_model = api.load(\"glove-wiki-gigaword-100\")\n",
    "\n",
    "# Convert text to Word2Vec embeddings\n",
    "def text_to_embedding(text, model, embedding_dim=100):\n",
    "    tokens = text.split()\n",
    "    embeddings = [model[word] for word in tokens if word in model]\n",
    "    return np.mean(embeddings, axis=0) if embeddings else np.zeros(embedding_dim)\n",
    "\n",
    "# Apply embedding conversion\n",
    "X_train_word2vec = np.array([text_to_embedding(text, word2vec_model) for text in X_train])\n",
    "X_test_word2vec = np.array([text_to_embedding(text, word2vec_model) for text in X_test])\n",
    "\n",
    "print(\"Word2Vec Embedding Shape:\", X_train_word2vec.shape)\n",
    "\n"
   ]
  },
  {
   "cell_type": "code",
   "execution_count": 13,
   "id": "d45ecc7a",
   "metadata": {},
   "outputs": [
    {
     "name": "stdout",
     "output_type": "stream",
     "text": [
      "\n",
      "TF-IDF Model Accuracy: 0.8875\n",
      "\n",
      "TF-IDF Classification Report:\n",
      "               precision    recall  f1-score   support\n",
      "\n",
      "           0       0.84      0.65      0.73       958\n",
      "           1       0.90      0.96      0.93      3042\n",
      "\n",
      "    accuracy                           0.89      4000\n",
      "   macro avg       0.87      0.81      0.83      4000\n",
      "weighted avg       0.88      0.89      0.88      4000\n",
      "\n",
      "\n",
      "Word2Vec Model Accuracy: 0.847\n",
      "\n",
      "Word2Vec Classification Report:\n",
      "               precision    recall  f1-score   support\n",
      "\n",
      "           0       0.74      0.55      0.63       958\n",
      "           1       0.87      0.94      0.90      3042\n",
      "\n",
      "    accuracy                           0.85      4000\n",
      "   macro avg       0.81      0.75      0.77      4000\n",
      "weighted avg       0.84      0.85      0.84      4000\n",
      "\n"
     ]
    }
   ],
   "source": [
    "#Model Training\n",
    "from sklearn.linear_model import LogisticRegression\n",
    "from sklearn.metrics import classification_report, accuracy_score\n",
    "\n",
    "# Train Logistic Regression on TF-IDF\n",
    "lr_tfidf = LogisticRegression(max_iter=1000)\n",
    "lr_tfidf.fit(X_train_tfidf, y_train)\n",
    "\n",
    "# Predict and evaluate\n",
    "y_pred_tfidf = lr_tfidf.predict(X_test_tfidf)\n",
    "print(\"\\nTF-IDF Model Accuracy:\", accuracy_score(y_test, y_pred_tfidf))\n",
    "print(\"\\nTF-IDF Classification Report:\\n\", classification_report(y_test, y_pred_tfidf))\n",
    "\n",
    "\n",
    "#Logistic Regression on Word2Vec\n",
    "# Train Logistic Regression on Word2Vec embeddings\n",
    "lr_word2vec = LogisticRegression(max_iter=1000)\n",
    "lr_word2vec.fit(X_train_word2vec, y_train)\n",
    "\n",
    "# Predict and evaluate\n",
    "y_pred_word2vec = lr_word2vec.predict(X_test_word2vec)\n",
    "print(\"\\nWord2Vec Model Accuracy:\", accuracy_score(y_test, y_pred_word2vec))\n",
    "print(\"\\nWord2Vec Classification Report:\\n\", classification_report(y_test, y_pred_word2vec))\n"
   ]
  },
  {
   "cell_type": "markdown",
   "id": "4c8c8247",
   "metadata": {},
   "source": [
    "## 5. Formal Evaluation\n",
    "- Evaluate the performance of each model on the testing set using the following metrics:\n",
    "  - Accuracy\n",
    "  - Precision\n",
    "  - Recall\n",
    "  - F1 Score\n",
    "  - Confusion Matrix\n"
   ]
  },
  {
   "cell_type": "code",
   "execution_count": 14,
   "id": "e26296c4",
   "metadata": {},
   "outputs": [
    {
     "name": "stdout",
     "output_type": "stream",
     "text": [
      "Dataset Columns: Index(['reviewText', 'Positive'], dtype='object')\n",
      "                                          reviewText  Positive\n",
      "0  This is a one of the best apps acording to a b...         1\n",
      "1  This is a pretty good version of the game for ...         1\n",
      "2  this is a really cool game. there are a bunch ...         1\n",
      "3  This is a silly game and can be frustrating, b...         1\n",
      "4  This is a terrific game on any pad. Hrs of fun...         1\n",
      "Evaluating Logistic Regression Model:\n",
      "=== Evaluation Metrics ===\n",
      "Accuracy: 0.8972\n",
      "Precision: 0.8954\n",
      "Recall: 0.8972\n",
      "F1 Score: 0.8924\n",
      "\n",
      "=== Confusion Matrix ===\n",
      "[[ 643  315]\n",
      " [  96 2946]]\n",
      "\n",
      "=== Classification Report ===\n",
      "              precision    recall  f1-score   support\n",
      "\n",
      "           0       0.87      0.67      0.76       958\n",
      "           1       0.90      0.97      0.93      3042\n",
      "\n",
      "    accuracy                           0.90      4000\n",
      "   macro avg       0.89      0.82      0.85      4000\n",
      "weighted avg       0.90      0.90      0.89      4000\n",
      "\n"
     ]
    }
   ],
   "source": [
    "# Import necessary libraries\n",
    "import pandas as pd\n",
    "from sklearn.model_selection import train_test_split\n",
    "from sklearn.feature_extraction.text import TfidfVectorizer\n",
    "from sklearn.linear_model import LogisticRegression\n",
    "from sklearn.metrics import accuracy_score, precision_score, recall_score, f1_score, confusion_matrix, classification_report\n",
    "\n",
    "# Load the dataset from the URL\n",
    "url = 'https://raw.githubusercontent.com/rashakil-ds/Public-Datasets/main/amazon.csv'\n",
    "data = pd.read_csv(url)\n",
    "\n",
    "# Display the column names to identify the correct ones\n",
    "print(\"Dataset Columns:\", data.columns)\n",
    "\n",
    "# Check the first few rows to inspect the data\n",
    "print(data.head())\n",
    "\n",
    "# Update the column names based on the dataset\n",
    "# 'reviewText' is for the reviews and 'Positive' is for the sentiment labels\n",
    "X_raw = data['reviewText']  # Column name for reviews\n",
    "y = data['Positive']  # Column name for sentiment labels (0 or 1)\n",
    "\n",
    "# Convert text data to numerical format using TF-IDF\n",
    "vectorizer = TfidfVectorizer()\n",
    "X = vectorizer.fit_transform(X_raw)\n",
    "\n",
    "# Split the dataset into training and testing sets\n",
    "X_train, X_test, y_train, y_test = train_test_split(X, y, test_size=0.2, random_state=42)\n",
    "\n",
    "# Train a Logistic Regression model\n",
    "logistic_model = LogisticRegression()\n",
    "logistic_model.fit(X_train, y_train)\n",
    "\n",
    "# Define the evaluation function\n",
    "def evaluate_model(model, X_test, y_test):\n",
    "    \"\"\"\n",
    "    Evaluate the given model's performance on test data using various metrics.\n",
    "    \n",
    "    Parameters:\n",
    "        model: Trained model (e.g., Logistic Regression).\n",
    "        X_test: Test features.\n",
    "        y_test: True labels for the test set.\n",
    "    \n",
    "    Returns:\n",
    "        None (prints the evaluation metrics).\n",
    "    \"\"\"\n",
    "    # Make predictions\n",
    "    y_pred = model.predict(X_test)\n",
    "    \n",
    "    # Calculate metrics\n",
    "    accuracy = accuracy_score(y_test, y_pred)\n",
    "    precision = precision_score(y_test, y_pred, average='weighted', zero_division=0)\n",
    "    recall = recall_score(y_test, y_pred, average='weighted', zero_division=0)\n",
    "    f1 = f1_score(y_test, y_pred, average='weighted', zero_division=0)\n",
    "    conf_matrix = confusion_matrix(y_test, y_pred)\n",
    "    \n",
    "    # Display results\n",
    "    print(\"=== Evaluation Metrics ===\")\n",
    "    print(f\"Accuracy: {accuracy:.4f}\")\n",
    "    print(f\"Precision: {precision:.4f}\")\n",
    "    print(f\"Recall: {recall:.4f}\")\n",
    "    print(f\"F1 Score: {f1:.4f}\")\n",
    "    print(\"\\n=== Confusion Matrix ===\")\n",
    "    print(conf_matrix)\n",
    "    print(\"\\n=== Classification Report ===\")\n",
    "    print(classification_report(y_test, y_pred))\n",
    "\n",
    "# Evaluate the trained Logistic Regression model\n",
    "print(\"Evaluating Logistic Regression Model:\")\n",
    "evaluate_model(logistic_model, X_test, y_test)\n"
   ]
  },
  {
   "cell_type": "markdown",
   "id": "fadcca61",
   "metadata": {},
   "source": [
    "## 6. Hyperparameter Tuning\n",
    "- Perform hyperparameter tuning for selected models using:\n",
    "  - Grid Search\n",
    "  - Random Search\n",
    "- Explain the chosen hyperparameters and justify their selection.\n"
   ]
  },
  {
   "cell_type": "code",
   "execution_count": 15,
   "id": "e40cb3a2",
   "metadata": {},
   "outputs": [
    {
     "name": "stdout",
     "output_type": "stream",
     "text": [
      "Fitting 5 folds for each of 48 candidates, totalling 240 fits\n",
      "Best Parameters from Grid Search: {'C': 10, 'max_iter': 100, 'penalty': 'l2', 'solver': 'liblinear'}\n",
      "Best Score from Grid Search: 0.9060625\n",
      "Fitting 5 folds for each of 84 candidates, totalling 420 fits\n"
     ]
    },
    {
     "name": "stderr",
     "output_type": "stream",
     "text": [
      "C:\\Users\\alimd\\anaconda3\\Lib\\site-packages\\sklearn\\model_selection\\_search.py:307: UserWarning: The total space of parameters 84 is smaller than n_iter=100. Running 84 iterations. For exhaustive searches, use GridSearchCV.\n",
      "  warnings.warn(\n"
     ]
    },
    {
     "name": "stdout",
     "output_type": "stream",
     "text": [
      "Best Parameters from Random Search: {'solver': 'liblinear', 'penalty': 'l2', 'max_iter': 100, 'C': 10.0}\n",
      "Best Score from Random Search: 0.9060625\n",
      "Accuracy of Grid Search model: 0.9045\n",
      "Accuracy of Random Search model: 0.9045\n"
     ]
    }
   ],
   "source": [
    "from sklearn.model_selection import GridSearchCV, RandomizedSearchCV\n",
    "from sklearn.linear_model import LogisticRegression\n",
    "from sklearn.metrics import accuracy_score\n",
    "import numpy as np\n",
    "\n",
    "# Define parameter grids for Grid Search and Random Search\n",
    "\n",
    "# Grid Search hyperparameter space\n",
    "param_grid = {\n",
    "    'C': [0.1, 1, 10, 100],  # Regularization strength\n",
    "    'penalty': ['l1', 'l2'],  # Regularization types\n",
    "    'solver': ['liblinear', 'saga'],  # Optimization algorithm\n",
    "    'max_iter': [100, 200, 300]  # Number of iterations for optimization\n",
    "}\n",
    "\n",
    "# Random Search hyperparameter space\n",
    "param_dist = {\n",
    "    'C': np.logspace(-3, 3, 7),  # Regularization strength (log scale)\n",
    "    'penalty': ['l1', 'l2'],  # Regularization types\n",
    "    'solver': ['liblinear', 'saga'],  # Optimization algorithm\n",
    "    'max_iter': [100, 200, 300]  # Number of iterations for optimization\n",
    "}\n",
    "\n",
    "# Initialize the model\n",
    "logistic_model = LogisticRegression()\n",
    "\n",
    "# Perform Grid Search\n",
    "grid_search = GridSearchCV(logistic_model, param_grid, cv=5, verbose=1, n_jobs=-1)\n",
    "grid_search.fit(X_train, y_train)\n",
    "\n",
    "# Best parameters and score from Grid Search\n",
    "print(\"Best Parameters from Grid Search:\", grid_search.best_params_)\n",
    "print(\"Best Score from Grid Search:\", grid_search.best_score_)\n",
    "\n",
    "# Perform Random Search\n",
    "random_search = RandomizedSearchCV(logistic_model, param_dist, n_iter=100, cv=5, verbose=1, n_jobs=-1, random_state=42)\n",
    "random_search.fit(X_train, y_train)\n",
    "\n",
    "# Best parameters and score from Random Search\n",
    "print(\"Best Parameters from Random Search:\", random_search.best_params_)\n",
    "print(\"Best Score from Random Search:\", random_search.best_score_)\n",
    "\n",
    "# Evaluate the model with best parameters from Grid Search\n",
    "best_grid_model = grid_search.best_estimator_\n",
    "y_pred_grid = best_grid_model.predict(X_test)\n",
    "print(\"Accuracy of Grid Search model:\", accuracy_score(y_test, y_pred_grid))\n",
    "\n",
    "# Evaluate the model with best parameters from Random Search\n",
    "best_random_model = random_search.best_estimator_\n",
    "y_pred_random = best_random_model.predict(X_test)\n",
    "print(\"Accuracy of Random Search model:\", accuracy_score(y_test, y_pred_random))\n"
   ]
  },
  {
   "cell_type": "markdown",
   "id": "aa9a658c",
   "metadata": {},
   "source": [
    "## 7. Comparative Analysis\n",
    "- Compare the performance of all models based on evaluation metrics.\n",
    "- Identify strengths and weaknesses of each model (e.g., speed, accuracy, interpretability).\n"
   ]
  },
  {
   "cell_type": "code",
   "execution_count": 16,
   "id": "0885e004",
   "metadata": {},
   "outputs": [
    {
     "name": "stdout",
     "output_type": "stream",
     "text": [
      "Checking missing values in dataset:\n",
      "0    0\n",
      "1    0\n",
      "2    0\n",
      "3    0\n",
      "dtype: int64\n"
     ]
    }
   ],
   "source": [
    "# Import necessary libraries\n",
    "import numpy as np\n",
    "import pandas as pd\n",
    "from sklearn.model_selection import train_test_split\n",
    "from sklearn.linear_model import LogisticRegression\n",
    "from sklearn.ensemble import RandomForestClassifier\n",
    "from sklearn.svm import SVC\n",
    "from sklearn.metrics import accuracy_score, precision_score, recall_score, f1_score, confusion_matrix\n",
    "from sklearn.impute import SimpleImputer\n",
    "\n",
    "# Example: Load dataset (replace with your own dataset)\n",
    "from sklearn.datasets import load_iris\n",
    "data = load_iris()\n",
    "X = data.data\n",
    "y = data.target\n",
    "\n",
    "# Check for missing values in the dataset\n",
    "print(\"Checking missing values in dataset:\")\n",
    "print(pd.DataFrame(X).isnull().sum())\n",
    "\n",
    "# Handle missing values (if necessary)\n",
    "# For demonstration, using SimpleImputer to replace missing values with the mean\n",
    "imputer = SimpleImputer(strategy='mean')\n",
    "X = imputer.fit_transform(X)\n",
    "\n",
    "# Split the data into training and testing sets\n",
    "X_train, X_test, y_train, y_test = train_test_split(X, y, test_size=0.2, random_state=42)\n",
    "\n",
    "# Initialize models\n",
    "logistic_model = LogisticRegression(C=1, penalty='l2', solver='liblinear', max_iter=200)\n",
    "rf_model = RandomForestClassifier(n_estimators=100, random_state=42)\n",
    "svm_model = SVC(kernel='linear', C=1, random_state=42)\n",
    "\n",
    "# Train models\n",
    "logistic_model.fit(X_train, y_train)\n",
    "rf_model.fit(X_train, y_train)\n",
    "svm_model.fit(X_train, y_train)\n",
    "\n",
    "# Make predictions\n",
    "logistic_pred = logistic_model.predict(X_test)\n",
    "rf_pred = rf_model.predict(X_test)\n",
    "svm_pred = svm_model.predict(X_test)\n",
    "\n",
    "\n",
    "\n",
    "\n"
   ]
  },
  {
   "cell_type": "code",
   "execution_count": 17,
   "id": "d43a9c7d",
   "metadata": {},
   "outputs": [],
   "source": [
    "# Evaluation function\n",
    "def evaluate_model(y_true, y_pred):\n",
    "    accuracy = accuracy_score(y_true, y_pred)\n",
    "    precision = precision_score(y_true, y_pred, average='weighted')\n",
    "    recall = recall_score(y_true, y_pred, average='weighted')\n",
    "    f1 = f1_score(y_true, y_pred, average='weighted')\n",
    "    confusion = confusion_matrix(y_true, y_pred)\n",
    "    return accuracy, precision, recall, f1, confusion\n",
    "\n",
    "# Evaluate each model\n",
    "logistic_metrics = evaluate_model(y_test, logistic_pred)\n",
    "rf_metrics = evaluate_model(y_test, rf_pred)\n",
    "svm_metrics = evaluate_model(y_test, svm_pred)"
   ]
  },
  {
   "cell_type": "code",
   "execution_count": 18,
   "id": "2e59b624",
   "metadata": {},
   "outputs": [
    {
     "name": "stdout",
     "output_type": "stream",
     "text": [
      "Logistic Regression Metrics:\n",
      "Accuracy: 1.0\n",
      "Precision: 1.0\n",
      "Recall: 1.0\n",
      "F1 Score: 1.0\n",
      "Confusion Matrix:\n",
      "[[10  0  0]\n",
      " [ 0  9  0]\n",
      " [ 0  0 11]]\n",
      "\n",
      "Random Forest Metrics:\n",
      "Accuracy: 1.0\n",
      "Precision: 1.0\n",
      "Recall: 1.0\n",
      "F1 Score: 1.0\n",
      "Confusion Matrix:\n",
      "[[10  0  0]\n",
      " [ 0  9  0]\n",
      " [ 0  0 11]]\n",
      "\n",
      "SVM Metrics:\n",
      "Accuracy: 1.0\n",
      "Precision: 1.0\n",
      "Recall: 1.0\n",
      "F1 Score: 1.0\n",
      "Confusion Matrix:\n",
      "[[10  0  0]\n",
      " [ 0  9  0]\n",
      " [ 0  0 11]]\n"
     ]
    }
   ],
   "source": [
    "\n",
    "# Print evaluation metrics for each model\n",
    "print(\"Logistic Regression Metrics:\")\n",
    "print(f\"Accuracy: {logistic_metrics[0]}\")\n",
    "print(f\"Precision: {logistic_metrics[1]}\")\n",
    "print(f\"Recall: {logistic_metrics[2]}\")\n",
    "print(f\"F1 Score: {logistic_metrics[3]}\")\n",
    "print(f\"Confusion Matrix:\\n{logistic_metrics[4]}\")\n",
    "\n",
    "print(\"\\nRandom Forest Metrics:\")\n",
    "print(f\"Accuracy: {rf_metrics[0]}\")\n",
    "print(f\"Precision: {rf_metrics[1]}\")\n",
    "print(f\"Recall: {rf_metrics[2]}\")\n",
    "print(f\"F1 Score: {rf_metrics[3]}\")\n",
    "print(f\"Confusion Matrix:\\n{rf_metrics[4]}\")\n",
    "\n",
    "print(\"\\nSVM Metrics:\")\n",
    "print(f\"Accuracy: {svm_metrics[0]}\")\n",
    "print(f\"Precision: {svm_metrics[1]}\")\n",
    "print(f\"Recall: {svm_metrics[2]}\")\n",
    "print(f\"F1 Score: {svm_metrics[3]}\")\n",
    "print(f\"Confusion Matrix:\\n{svm_metrics[4]}\")"
   ]
  },
  {
   "cell_type": "markdown",
   "id": "bf254f52",
   "metadata": {},
   "source": [
    "## 8. Conclusion & Comments\n",
    "- Summarize the findings of the project.\n",
    "- Provide insights into the challenges faced during data preprocessing, model training, and evaluation.\n",
    "- Highlight key lessons learned.\n",
    "- Add clear and concise comments to the code for each step of the project.\n",
    "- Highlight key results, visualizations, and model comparisons.\n"
   ]
  },
  {
   "cell_type": "code",
   "execution_count": 19,
   "id": "464bee8a",
   "metadata": {},
   "outputs": [
    {
     "data": {
      "image/png": "[encoded data removed]",
      "text/plain": [
       "<Figure size 600x600 with 2 Axes>"
      ]
     },
     "metadata": {},
     "output_type": "display_data"
    },
    {
     "name": "stdout",
     "output_type": "stream",
     "text": [
      "\n",
      "Classification Report for Random Forest:\n",
      "\n",
      "              precision    recall  f1-score   support\n",
      "\n",
      "           0       1.00      1.00      1.00        10\n",
      "           1       1.00      1.00      1.00         9\n",
      "           2       1.00      1.00      1.00        11\n",
      "\n",
      "    accuracy                           1.00        30\n",
      "   macro avg       1.00      1.00      1.00        30\n",
      "weighted avg       1.00      1.00      1.00        30\n",
      "\n"
     ]
    },
    {
     "data": {
      "image/png": "[encoded data removed]",
      "text/plain": [
       "<Figure size 600x600 with 2 Axes>"
      ]
     },
     "metadata": {},
     "output_type": "display_data"
    },
    {
     "name": "stdout",
     "output_type": "stream",
     "text": [
      "\n",
      "Classification Report for SVM:\n",
      "\n",
      "              precision    recall  f1-score   support\n",
      "\n",
      "           0       1.00      1.00      1.00        10\n",
      "           1       1.00      1.00      1.00         9\n",
      "           2       1.00      1.00      1.00        11\n",
      "\n",
      "    accuracy                           1.00        30\n",
      "   macro avg       1.00      1.00      1.00        30\n",
      "weighted avg       1.00      1.00      1.00        30\n",
      "\n"
     ]
    },
    {
     "data": {
      "image/png": "[encoded data removed]",
      "text/plain": [
       "<Figure size 600x600 with 2 Axes>"
      ]
     },
     "metadata": {},
     "output_type": "display_data"
    },
    {
     "name": "stdout",
     "output_type": "stream",
     "text": [
      "\n",
      "Classification Report for KNN:\n",
      "\n",
      "              precision    recall  f1-score   support\n",
      "\n",
      "           0       1.00      1.00      1.00        10\n",
      "           1       1.00      1.00      1.00         9\n",
      "           2       1.00      1.00      1.00        11\n",
      "\n",
      "    accuracy                           1.00        30\n",
      "   macro avg       1.00      1.00      1.00        30\n",
      "weighted avg       1.00      1.00      1.00        30\n",
      "\n",
      "\n",
      "Model Comparison:\n",
      "\n",
      "           Model  Accuracy  Precision  Recall  F1 Score\n",
      "0  Random Forest       1.0        1.0     1.0       1.0\n",
      "1            SVM       1.0        1.0     1.0       1.0\n",
      "2            KNN       1.0        1.0     1.0       1.0\n"
     ]
    }
   ],
   "source": [
    "# Import necessary libraries\n",
    "from sklearn.ensemble import RandomForestClassifier\n",
    "from sklearn.svm import SVC\n",
    "from sklearn.neighbors import KNeighborsClassifier\n",
    "from sklearn.metrics import confusion_matrix, classification_report\n",
    "from sklearn.model_selection import train_test_split\n",
    "import matplotlib.pyplot as plt\n",
    "import seaborn as sns\n",
    "import pandas as pd\n",
    "\n",
    "# Assuming you already have the dataset (replace X, y with actual dataset)\n",
    "X_train, X_test, y_train, y_test = train_test_split(X, y, test_size=0.2, random_state=42)\n",
    "\n",
    "# Initialize models\n",
    "models = {\n",
    "    \"Random Forest\": RandomForestClassifier(random_state=42),\n",
    "    \"SVM\": SVC(probability=True, random_state=42),\n",
    "    \"KNN\": KNeighborsClassifier()\n",
    "}\n",
    "\n",
    "# Fit the models on the training data\n",
    "for name, model in models.items():\n",
    "    model.fit(X_train, y_train)\n",
    "\n",
    "# Evaluate models\n",
    "for name, model in models.items():\n",
    "    # Predictions\n",
    "    y_pred = model.predict(X_test)\n",
    "    cm = confusion_matrix(y_test, y_pred)\n",
    "    \n",
    "    # Visualize the confusion matrix\n",
    "    plt.figure(figsize=(6, 6))\n",
    "    sns.heatmap(cm, annot=True, fmt='d', cmap='Blues', xticklabels=model.classes_, yticklabels=model.classes_)\n",
    "    plt.title(f\"Confusion Matrix for {name}\")\n",
    "    plt.xlabel(\"Predicted\")\n",
    "    plt.ylabel(\"Actual\")\n",
    "    plt.show()\n",
    "\n",
    "    # Print classification report\n",
    "    print(f\"\\nClassification Report for {name}:\\n\")\n",
    "    print(classification_report(y_test, y_pred))\n",
    "    \n",
    "# Optional: Print key evaluation metrics for all models in a comparison table\n",
    "model_comparison = {\n",
    "    \"Model\": [\"Random Forest\", \"SVM\", \"KNN\"],\n",
    "    \"Accuracy\": [model.score(X_test, y_test) for model in models.values()],\n",
    "    \"Precision\": [classification_report(y_test, model.predict(X_test), output_dict=True)['weighted avg']['precision'] for model in models.values()],\n",
    "    \"Recall\": [classification_report(y_test, model.predict(X_test), output_dict=True)['weighted avg']['recall'] for model in models.values()],\n",
    "    \"F1 Score\": [classification_report(y_test, model.predict(X_test), output_dict=True)['weighted avg']['f1-score'] for model in models.values()],\n",
    "}\n",
    "\n",
    "comparison_df = pd.DataFrame(model_comparison)\n",
    "print(\"\\nModel Comparison:\\n\")\n",
    "print(comparison_df)\n"
   ]
  }
 ],
 "metadata": {
  "kernelspec": {
   "display_name": "Python 3 (ipykernel)",
   "language": "python",
   "name": "python3"
  },
  "language_info": {
   "codemirror_mode": {
    "name": "ipython",
    "version": 3
   },
   "file_extension": ".py",
   "mimetype": "text/x-python",
   "name": "python",
   "nbconvert_exporter": "python",
   "pygments_lexer": "ipython3",
   "version": "3.11.4"
  }
 },
 "nbformat": 4,
 "nbformat_minor": 5
}
